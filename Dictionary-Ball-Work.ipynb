{
 "cells": [
  {
   "cell_type": "code",
   "execution_count": 83,
   "metadata": {},
   "outputs": [
    {
     "data": {
      "text/plain": [
       "{'home': {'team_name': 'Brooklyn Nets',\n",
       "  'colors': 'Black, White',\n",
       "  'players': {'Alan Anderson': {'number': 0,\n",
       "    'shoe': 16,\n",
       "    'points': 22,\n",
       "    'rebounds': 12,\n",
       "    'assists': 12,\n",
       "    'steals': 3,\n",
       "    'blocks': 1,\n",
       "    'slam_dunks': 1},\n",
       "   'Reggie Evans': {'number': 30,\n",
       "    'shoe': 14,\n",
       "    'points': 12,\n",
       "    'rebounds': 12,\n",
       "    'assists': 12,\n",
       "    'steals': 12,\n",
       "    'blocks': 12,\n",
       "    'slam_dunks': 7},\n",
       "   'Brook Lopez': {'number': 11,\n",
       "    'shoe': 17,\n",
       "    'points': 17,\n",
       "    'rebounds': 19,\n",
       "    'assists': 10,\n",
       "    'steals': 3,\n",
       "    'blocks': 1,\n",
       "    'slam_dunks': 15},\n",
       "   'Mason Plumlee': {'number': 1,\n",
       "    'shoe': 19,\n",
       "    'points': 26,\n",
       "    'rebounds': 12,\n",
       "    'assists': 6,\n",
       "    'steals': 3,\n",
       "    'blocks': 8,\n",
       "    'slam_dunks': 5},\n",
       "   'Jason Terry': {'number': 31,\n",
       "    'shoe': 15,\n",
       "    'points': 19,\n",
       "    'rebounds': 2,\n",
       "    'assists': 2,\n",
       "    'steals': 4,\n",
       "    'blocks': 11,\n",
       "    'slam_dunks': 1}}},\n",
       " 'away': {'team_name': 'Charlotte Hornets',\n",
       "  'colors': 'Turquoise, Purple',\n",
       "  'players': {'Jeff Adrien': {'number': 4,\n",
       "    'shoe': 18,\n",
       "    'points': 10,\n",
       "    'rebounds': 1,\n",
       "    'assists': 1,\n",
       "    'steals': 2,\n",
       "    'blocks': 7,\n",
       "    'slam_dunks': 2},\n",
       "   'Bismak Biyombo': {'number': 0,\n",
       "    'shoe': 16,\n",
       "    'points': 12,\n",
       "    'rebounds': 4,\n",
       "    'assists': 7,\n",
       "    'steals': 7,\n",
       "    'blocks': 15,\n",
       "    'slam_dunks': 10},\n",
       "   'DeSagna Diop': {'number': 2,\n",
       "    'shoe': 14,\n",
       "    'points': 24,\n",
       "    'rebounds': 12,\n",
       "    'assists': 12,\n",
       "    'steals': 4,\n",
       "    'blocks': 5,\n",
       "    'slam_dunks': 5},\n",
       "   'Ben Gordon': {'number': 8,\n",
       "    'shoe': 15,\n",
       "    'points': 33,\n",
       "    'rebounds': 3,\n",
       "    'assists': 2,\n",
       "    'steals': 1,\n",
       "    'blocks': 1,\n",
       "    'slam_dunks': 0},\n",
       "   'Brendan Haywood': {'number': 33,\n",
       "    'shoe': 15,\n",
       "    'points': 6,\n",
       "    'rebounds': 12,\n",
       "    'assists': 12,\n",
       "    'steals': 22,\n",
       "    'blocks': 5,\n",
       "    'slam_dunks': 12}}}}"
      ]
     },
     "execution_count": 83,
     "metadata": {},
     "output_type": "execute_result"
    }
   ],
   "source": [
    "#### STEP 1 ####\n",
    "\n",
    "#home stats dictionaries:\n",
    "Alan_Anderson_stats = {'number': 0, 'shoe': 16, 'points': 22, 'rebounds': 12, 'assists': 12, 'steals': 3, 'blocks': 1, 'slam_dunks': 1}\n",
    "Reggie_Evans_stats = {'number': 30, 'shoe': 14, 'points': 12, 'rebounds': 12, 'assists': 12, 'steals': 12, 'blocks': 12, 'slam_dunks': 7}\n",
    "Brook_Lopez_stats = {'number': 11, 'shoe': 17, 'points': 17, 'rebounds': 19, 'assists': 10, 'steals': 3, 'blocks': 1, 'slam_dunks': 15}\n",
    "Mason_Plumlee_stats = {'number': 1, 'shoe': 19, 'points': 26, 'rebounds': 12, 'assists': 6, 'steals': 3, 'blocks': 8, 'slam_dunks': 5}\n",
    "Jason_Terry_stats = {'number': 31, 'shoe': 15, 'points': 19, 'rebounds': 2, 'assists': 2, 'steals': 4, 'blocks': 11, 'slam_dunks': 1}\n",
    "\n",
    "#away stats dictionaries:\n",
    "Jeff_Adrien_stats = {'number': 4, 'shoe': 18, 'points': 10, 'rebounds': 1, 'assists': 1, 'steals': 2, 'blocks': 7, 'slam_dunks': 2}\n",
    "Bismak_Biyombo_stats = {'number': 0, 'shoe': 16, 'points': 12, 'rebounds': 4, 'assists': 7, 'steals': 7, 'blocks': 15, 'slam_dunks': 10}\n",
    "DeSagna_Diop_stats = {'number': 2, 'shoe': 14, 'points': 24, 'rebounds': 12, 'assists': 12, 'steals': 4, 'blocks': 5, 'slam_dunks': 5}\n",
    "Ben_Gordon_stats = {'number': 8, 'shoe': 15, 'points': 33, 'rebounds': 3, 'assists': 2, 'steals': 1, 'blocks': 1, 'slam_dunks': 0}\n",
    "Brendan_Haywood_stats = {'number': 33, 'shoe': 15, 'points': 6, 'rebounds': 12, 'assists': 12, 'steals': 22, 'blocks': 5, 'slam_dunks': 12}\n",
    "\n",
    "#home players dictionaries\n",
    "home_players = {'Alan Anderson': Alan_Anderson_stats, 'Reggie Evans': Reggie_Evans_stats, 'Brook Lopez': Brook_Lopez_stats,'Mason Plumlee': Mason_Plumlee_stats,'Jason Terry': Jason_Terry_stats}        \n",
    "\n",
    "#away players dictionaries\n",
    "away_players = {'Jeff Adrien': Jeff_Adrien_stats, 'Bismak Biyombo': Bismak_Biyombo_stats, 'DeSagna Diop': DeSagna_Diop_stats,'Ben Gordon': Ben_Gordon_stats,'Brendan Haywood': Brendan_Haywood_stats}        \n",
    "\n",
    "#whole game dictionary\n",
    "game_dictionary = {'home': {'team_name': 'Brooklyn Nets', 'colors': 'Black, White', 'players': home_players},\n",
    "                  'away': {'team_name': 'Charlotte Hornets', 'colors': 'Turquoise, Purple', 'players': away_players}}    \n",
    "\n",
    "game_dictionary "
   ]
  },
  {
   "cell_type": "code",
   "execution_count": 87,
   "metadata": {},
   "outputs": [
    {
     "data": {
      "text/plain": [
       "{}"
      ]
     },
     "execution_count": 87,
     "metadata": {},
     "output_type": "execute_result"
    }
   ],
   "source": [
    "### STEP 2 ####\n",
    "from dictionaryball import game_dict\n",
    "game_dict()"
   ]
  },
  {
   "cell_type": "code",
   "execution_count": null,
   "metadata": {},
   "outputs": [],
   "source": []
  }
 ],
 "metadata": {
  "kernelspec": {
   "display_name": "Python 3",
   "language": "python",
   "name": "python3"
  },
  "language_info": {
   "codemirror_mode": {
    "name": "ipython",
    "version": 3
   },
   "file_extension": ".py",
   "mimetype": "text/x-python",
   "name": "python",
   "nbconvert_exporter": "python",
   "pygments_lexer": "ipython3",
   "version": "3.6.5"
  }
 },
 "nbformat": 4,
 "nbformat_minor": 2
}
